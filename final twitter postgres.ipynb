{
 "cells": [
  {
   "cell_type": "code",
   "execution_count": 1,
   "metadata": {},
   "outputs": [],
   "source": [
    "import tweepy\n",
    "import pandas as pd\n",
    "import re\n",
    "import os\n",
    "import time\n",
    "import psycopg2\n",
    "from psycopg2 import sql"
   ]
  },
  {
   "cell_type": "code",
   "execution_count": 2,
   "metadata": {},
   "outputs": [],
   "source": [
    "API_KEY = \"KJfBL1eL2ker6nhicKNhZRYch\"\n",
    "API_SECRET = \"AMHdJbAgDgAY3I0yzb505nxiZAy9NSEr8bJnYfG7YGQw5wiOqs\"\n",
    "ACCESS_TOKEN = \"1794412103232897024-F0Srvwq3HBVfQIVuGI45UJdCVY4vWN\"\n",
    "ACCESS_SECRET = \"V1FlrHRM6A3Foo0pwnovT065M1nGcQSwg5Q0p0vycJeSZ\"\n",
    "BEARER_TOKEN = \"AAAAAAAAAAAAAAAAAAAAAFzHygEAAAAA1hloN%2Bf4XNj2b6Dh0wUr5K2wjww%3Dllj5Ik3tp6USoSVHcGnU5hRdDJt8xmywFgpTig0BloS1z1ZqpT\""
   ]
  },
  {
   "cell_type": "code",
   "execution_count": 3,
   "metadata": {},
   "outputs": [],
   "source": [
    "client = tweepy.Client(bearer_token=BEARER_TOKEN)"
   ]
  },
  {
   "cell_type": "markdown",
   "metadata": {},
   "source": []
  },
  {
   "cell_type": "code",
   "execution_count": 4,
   "metadata": {},
   "outputs": [],
   "source": [
    "\n",
    "# PostgreSQL database credentials\n",
    "DB_NAME = \"postgres\"\n",
    "DB_USER = \"postgres\"\n",
    "DB_PASSWORD = \"root\"\n",
    "DB_HOST = \"localhost\"\n",
    "DB_PORT = \"5432\""
   ]
  },
  {
   "cell_type": "code",
   "execution_count": 5,
   "metadata": {},
   "outputs": [],
   "source": [
    "# Connect to PostgreSQL database\n",
    "conn = psycopg2.connect(\n",
    "    dbname=DB_NAME,\n",
    "    user=DB_USER,\n",
    "    password=DB_PASSWORD,\n",
    "    host=DB_HOST,\n",
    "    port=DB_PORT\n",
    ")\n",
    "cursor = conn.cursor()"
   ]
  },
  {
   "cell_type": "code",
   "execution_count": 6,
   "metadata": {},
   "outputs": [],
   "source": [
    "# Create table if not exists\n",
    "cursor.execute(\"\"\"\n",
    "    CREATE TABLE IF NOT EXISTS twitter_profiles (\n",
    "        id SERIAL PRIMARY KEY,\n",
    "        username TEXT UNIQUE,\n",
    "        bio TEXT,\n",
    "        followers_count INTEGER,\n",
    "        following_count INTEGER,\n",
    "        location TEXT,\n",
    "        website TEXT\n",
    "    )\n",
    "\"\"\")\n",
    "conn.commit()\n"
   ]
  },
  {
   "cell_type": "code",
   "execution_count": 10,
   "metadata": {},
   "outputs": [],
   "source": [
    "# Load CSV file containing Twitter profile links\n",
    "csv_file_path = r\"D:\\\\projects\\\\ML\\\\webscrap\\\\twitter_links1.csv\"\n",
    "df = pd.read_csv(csv_file_path)"
   ]
  },
  {
   "cell_type": "code",
   "execution_count": 13,
   "metadata": {},
   "outputs": [
    {
     "name": "stdout",
     "output_type": "stream",
     "text": [
      "Index(['Links '], dtype='object')\n"
     ]
    }
   ],
   "source": [
    "print(df.columns)"
   ]
  },
  {
   "cell_type": "code",
   "execution_count": 14,
   "metadata": {},
   "outputs": [],
   "source": [
    "def extract_username(url):\n",
    "    match = re.search(r\"twitter\\.com/([^/?]+)\", str(url))\n",
    "    return match.group(1) if match else None\n",
    "\n",
    "df[\"Username\"] = df[\"Links \"].apply(extract_username)"
   ]
  },
  {
   "cell_type": "code",
   "execution_count": 15,
   "metadata": {},
   "outputs": [],
   "source": [
    "def fetch_user_data(username):\n",
    "    while True:\n",
    "        try:\n",
    "            user = client.get_user(username=username, user_fields=[\"description\", \"public_metrics\", \"location\", \"url\"])\n",
    "            return {\n",
    "                \"Username\": username,\n",
    "                \"Bio\": user.data.description if user.data.description else \"\",\n",
    "                \"Followers Count\": user.data.public_metrics[\"followers_count\"],\n",
    "                \"Following Count\": user.data.public_metrics[\"following_count\"],\n",
    "                \"Location\": user.data.location if user.data.location else \"\",\n",
    "                \"Website\": user.data.url if user.data.url else \"\"\n",
    "            }\n",
    "        except tweepy.TooManyRequests as e:\n",
    "            reset_time = int(e.response.headers.get(\"x-rate-limit-reset\", time.time() + 60))\n",
    "            wait_time = reset_time - time.time()\n",
    "            print(f\"Rate limit exceeded. Waiting {wait_time:.0f} seconds...\")\n",
    "            time.sleep(wait_time + 1)\n",
    "        except Exception as e:\n",
    "            print(f\"Error fetching data for {username}: {e}\")\n",
    "            return None\n"
   ]
  },
  {
   "cell_type": "code",
   "execution_count": 16,
   "metadata": {},
   "outputs": [
    {
     "name": "stdout",
     "output_type": "stream",
     "text": [
      "Fetched and stored data for GTNUK1\n",
      "Fetched and stored data for whatsapp\n",
      "Fetched and stored data for aacb_CBPTrade\n"
     ]
    }
   ],
   "source": [
    "for username in df[\"Username\"].dropna().head(3):\n",
    "    user_data = fetch_user_data(username)\n",
    "    if user_data:\n",
    "        cursor.execute(\"\"\"\n",
    "            INSERT INTO twitter_profiles (username, bio, followers_count, following_count, location, website)\n",
    "            VALUES (%s, %s, %s, %s, %s, %s)\n",
    "            ON CONFLICT (username) DO UPDATE\n",
    "            SET bio = EXCLUDED.bio, \n",
    "                followers_count = EXCLUDED.followers_count, \n",
    "                following_count = EXCLUDED.following_count, \n",
    "                location = EXCLUDED.location, \n",
    "                website = EXCLUDED.website\n",
    "        \"\"\", (user_data[\"Username\"], user_data[\"Bio\"], user_data[\"Followers Count\"], user_data[\"Following Count\"], user_data[\"Location\"], user_data[\"Website\"]))\n",
    "        conn.commit()\n",
    "        print(f\"Fetched and stored data for {username}\")\n",
    "        time.sleep(15)\n"
   ]
  },
  {
   "cell_type": "code",
   "execution_count": 17,
   "metadata": {},
   "outputs": [
    {
     "name": "stdout",
     "output_type": "stream",
     "text": [
      "Data successfully stored in PostgreSQL database.\n"
     ]
    }
   ],
   "source": [
    "# Close connection\n",
    "cursor.close()\n",
    "conn.close()\n",
    "print(\"Data successfully stored in PostgreSQL database.\")"
   ]
  }
 ],
 "metadata": {
  "kernelspec": {
   "display_name": "Python 3",
   "language": "python",
   "name": "python3"
  },
  "language_info": {
   "codemirror_mode": {
    "name": "ipython",
    "version": 3
   },
   "file_extension": ".py",
   "mimetype": "text/x-python",
   "name": "python",
   "nbconvert_exporter": "python",
   "pygments_lexer": "ipython3",
   "version": "3.12.4"
  }
 },
 "nbformat": 4,
 "nbformat_minor": 2
}
